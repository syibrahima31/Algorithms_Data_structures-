{
  "nbformat": 4,
  "nbformat_minor": 0,
  "metadata": {
    "colab": {
      "name": "Tours de Hanoi .ipynb",
      "provenance": [],
      "authorship_tag": "ABX9TyPpTXZZ9Bz7dOIqhv/dn3PU",
      "include_colab_link": true
    },
    "kernelspec": {
      "name": "python3",
      "display_name": "Python 3"
    },
    "language_info": {
      "name": "python"
    }
  },
  "cells": [
    {
      "cell_type": "markdown",
      "metadata": {
        "id": "view-in-github",
        "colab_type": "text"
      },
      "source": [
        "<a href=\"https://colab.research.google.com/github/syibrahima31/Algorithms_Data_structures-/blob/main/Tours_de_Hanoi_.ipynb\" target=\"_parent\"><img src=\"https://colab.research.google.com/assets/colab-badge.svg\" alt=\"Open In Colab\"/></a>"
      ]
    },
    {
      "cell_type": "markdown",
      "metadata": {
        "id": "uqg8zxfF-MR4"
      },
      "source": [
        "# Les tours de Hanoï\n",
        "\n",
        "\n",
        "\n",
        "![](https://upload.wikimedia.org/wikipedia/commons/0/07/Tower_of_Hanoi.jpeg)\n",
        "\n",
        "\n",
        "> Les tours de Hanoï (originellement, la tour d'Hanoïa) sont un jeu de réflexion imaginé par le mathématicien français Édouard Lucas, et consistant à déplacer des disques de diamètres différents d'une tour de « départ » à une tour d'« arrivée » en passant par une tour « intermédiaire », et ceci en un minimum de coups, tout en respectant les règles suivantes :\n",
        "- on ne peut déplacer plus d'un disque à la fois \n",
        "-on ne peut placer un disque que sur un autre disque plus grand que lui ou sur un emplaceme\n",
        "\n",
        "\n"
      ]
    },
    {
      "cell_type": "code",
      "metadata": {
        "id": "lvbvX0pc-9Bq"
      },
      "source": [
        "def hanoi(nombre_disque, pivot_depart, pivot_arrive, pivot_milieu):\n",
        "  if nombre_disque == 0 :\n",
        "    return []\n",
        "  tour1 = hanoi(nombre_disque -1 , pivot_depart, pivot_milieu , pivot_arrive)\n",
        "  disque = [(pivot_depart, pivot_arrive)]\n",
        "  tour2 = hanoi(nombre_disque -1 , pivot_milieu , pivot_arrive, pivot_depart) \n",
        "  return tour1 + disque + tour2\n"
      ],
      "execution_count": 12,
      "outputs": []
    },
    {
      "cell_type": "code",
      "metadata": {
        "colab": {
          "base_uri": "https://localhost:8080/"
        },
        "id": "yzkgaRrya8qD",
        "outputId": "1443e6b8-d10f-48a5-dceb-094fa99b5bdb"
      },
      "source": [
        "hanoi(2, \"gauche\",\"droite\", \"intermediare\")"
      ],
      "execution_count": 13,
      "outputs": [
        {
          "output_type": "execute_result",
          "data": {
            "text/plain": [
              "[('gauche', 'intermediare'), ('gauche', 'droite'), ('intermediare', 'droite')]"
            ]
          },
          "metadata": {
            "tags": []
          },
          "execution_count": 13
        }
      ]
    },
    {
      "cell_type": "code",
      "metadata": {
        "id": "F1sWBL__bNtS"
      },
      "source": [
        ""
      ],
      "execution_count": 13,
      "outputs": []
    }
  ]
}