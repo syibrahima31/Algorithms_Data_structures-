{
  "nbformat": 4,
  "nbformat_minor": 0,
  "metadata": {
    "colab": {
      "name": "Binary Search .ipynb",
      "provenance": [],
      "authorship_tag": "ABX9TyMu0QjvXPfTb8lWTCVq9mDt",
      "include_colab_link": true
    },
    "kernelspec": {
      "display_name": "Python 3",
      "name": "python3"
    },
    "language_info": {
      "name": "python"
    }
  },
  "cells": [
    {
      "cell_type": "markdown",
      "metadata": {
        "id": "view-in-github",
        "colab_type": "text"
      },
      "source": [
        "<a href=\"https://colab.research.google.com/github/syibrahima31/Algorithms_Data_structures-/blob/main/Binary_Search_.ipynb\" target=\"_parent\"><img src=\"https://colab.research.google.com/assets/colab-badge.svg\" alt=\"Open In Colab\"/></a>"
      ]
    },
    {
      "cell_type": "markdown",
      "metadata": {
        "id": "Se0p_voRK02q"
      },
      "source": [
        "# Binary Search\n",
        "----------------"
      ]
    },
    {
      "cell_type": "markdown",
      "metadata": {
        "id": "ccoqwFKOKFXB"
      },
      "source": [
        "La recherche dichotomique, ou recherche par dichotomie1 (**binary search**), est un algorithme de recherche pour trouver la position d'un élément dans un tableau trié. Le principe est le suivant : comparer l'élément avec la valeur de la case au milieu du tableau ; si les valeurs sont égales, la tâche est accomplie, sinon on recommence dans la moitié du tableau pertinente.\n",
        "\n",
        "---\n",
        "![](https://upload.wikimedia.org/wikipedia/commons/f/f7/Binary_search_into_array.png)\n"
      ]
    },
    {
      "cell_type": "markdown",
      "metadata": {
        "id": "C6pzQbpKnj9R"
      },
      "source": [
        "## premier  methode : la procédure récursive "
      ]
    },
    {
      "cell_type": "code",
      "metadata": {
        "id": "uzig-iEGaenI"
      },
      "source": [
        "def recherche_dico(L, elt, indice_debut, indice_fin):\n",
        "  \n",
        "  if indice_debut > indice_fin:\n",
        "    return -1\n",
        "\n",
        "  else :\n",
        "    indice_milieu = (indice_fin + indice_debut) // 2\n",
        "    val_milieu = L[indice_milieu]\n",
        "\n",
        "    if val_milieu == elt :\n",
        "      return True\n",
        "    elif  val_milieu < elt :\n",
        "      \n",
        "      return recherche_dico(L, elt, indice_milieu + 1, indice_fin)\n",
        "    \n",
        "    elif val_milieu > elt :\n",
        "     \n",
        "      return recherche_dico(L, elt, indice_debut, indice_milieu - 1)\n"
      ],
      "execution_count": 68,
      "outputs": []
    },
    {
      "cell_type": "code",
      "metadata": {
        "colab": {
          "base_uri": "https://localhost:8080/"
        },
        "id": "QTVu2-soap1i",
        "outputId": "845cc688-ae3b-4540-e500-175d5deeb823"
      },
      "source": [
        "L = [1,10,30,40]\n",
        "recherche_dico(L,40, 0, len(L)-1)"
      ],
      "execution_count": 70,
      "outputs": [
        {
          "output_type": "execute_result",
          "data": {
            "text/plain": [
              "True"
            ]
          },
          "metadata": {
            "tags": []
          },
          "execution_count": 70
        }
      ]
    },
    {
      "cell_type": "markdown",
      "metadata": {
        "id": "O4yqao0xnu5t"
      },
      "source": [
        "## Seconde methode : procédure ittérative "
      ]
    },
    {
      "cell_type": "code",
      "metadata": {
        "id": "WiM2zpaSbEZ9"
      },
      "source": [
        "\n",
        "def recherche_dico(L, elt):\n",
        "  indice_debut = 0\n",
        "  indice_fin = len(L)-1\n",
        "\n",
        "  while indice_debut <= indice_fin : \n",
        "    indice_milieu = (indice_debut + indice_fin) //2 \n",
        "    valeur_milieu = L[indice_milieu]\n",
        "\n",
        "    if valeur_milieu == elt :\n",
        "      return True \n",
        "    elif valeur_milieu < elt :\n",
        "      indice_debut = indice_milieu + 1\n",
        "    \n",
        "    elif valeur_milieu > elt :\n",
        "      indice_fin = indice_milieu - 1\n",
        "\n",
        "  return False "
      ],
      "execution_count": 60,
      "outputs": []
    },
    {
      "cell_type": "code",
      "metadata": {
        "id": "jf723U3Sb0px",
        "colab": {
          "base_uri": "https://localhost:8080/"
        },
        "outputId": "befca5c0-9f2c-4150-da0e-aca3aea1c5d9"
      },
      "source": [
        "recherche_dico([1,2,5,7],1)"
      ],
      "execution_count": 61,
      "outputs": [
        {
          "output_type": "execute_result",
          "data": {
            "text/plain": [
              "True"
            ]
          },
          "metadata": {
            "tags": []
          },
          "execution_count": 61
        }
      ]
    },
    {
      "cell_type": "code",
      "metadata": {
        "id": "cob3jz8zR6KJ"
      },
      "source": [
        ""
      ],
      "execution_count": null,
      "outputs": []
    }
  ]
}